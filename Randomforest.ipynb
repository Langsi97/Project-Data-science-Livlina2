{
 "cells": [
  {
   "cell_type": "code",
   "execution_count": 16,
   "metadata": {},
   "outputs": [],
   "source": [
    "#Loading required packages\n",
    "import os\n",
    "import numpy as np\n",
    "import matplotlib.pyplot as plt\n",
    "import pandas as pd\n",
    "import openpyxl\n",
    "from sklearn.ensemble import RandomForestRegressor, RandomTreesEmbedding, RandomForestClassifier\n",
    "import holidays\n",
    "from datetime import date, timedelta\n",
    "import seaborn as sns\n",
    "%matplotlib inline\n",
    "# setting random seed\n",
    "np.random.seed(1)\n",
    "import warnings\n",
    "warnings.filterwarnings('ignore')"
   ]
  },
  {
   "cell_type": "markdown",
   "metadata": {},
   "source": [
    "#  I have divided the calculated Labour by 7  hours. Let's say 1 hours is spent on break and other adhoc things"
   ]
  },
  {
   "cell_type": "code",
   "execution_count": 17,
   "metadata": {},
   "outputs": [
    {
     "name": "stdout",
     "output_type": "stream",
     "text": [
      "Index(['Processed_date', 'Weekday', 'Year', 'Week_number', 'No of Colli',\n",
      "       'No of Pallet', 'Qty Actual', 'Qty actual OSR', 'FC OSR', 'SU OSR',\n",
      "       'Qty actual manual', 'FC Manual', 'SU Manual ', 'FC pick ORS',\n",
      "       'SU pick OSR hour', 'FC pick Manual hour', 'SU pick Manual hour',\n",
      "       'Palletizing Rate', 'Pallet Wrapping Rate', 'Total Hour',\n",
      "       'Calculated Labour', 'Unnamed: 21', 'Unnamed: 22', 'Unnamed: 23',\n",
      "       'Unnamed: 24', 'Unnamed: 25', 'Unnamed: 26'],\n",
      "      dtype='object')\n",
      "   Processed_date Weekday  Year  Week_number  No of Colli  No of Pallet  \\\n",
      "82     2022-08-01     Mon  2022           31         3167            74   \n",
      "83     2022-08-02     Tue  2022           31         2387            98   \n",
      "84     2022-08-03     Wed  2022           31         1691           200   \n",
      "85     2022-08-04     Thu  2022           31         1964           129   \n",
      "86     2022-08-05     Fri  2022           31         2327            84   \n",
      "\n",
      "    Qty Actual  Qty actual OSR  FC OSR  SU OSR  ...  Palletizing Rate  \\\n",
      "82      224082          148096    1853    2345  ...         17.594444   \n",
      "83      287333          223260    2447    2756  ...         13.261111   \n",
      "84      468542          303646    4553    2551  ...          9.394444   \n",
      "85     4454635          160530    1615    2157  ...         10.911111   \n",
      "86      383438          117427    2149    1971  ...         12.927778   \n",
      "\n",
      "    Pallet Wrapping Rate Total Hour  Calculated Labour  Unnamed: 21  \\\n",
      "82              9.156000  89.557062          12.793866          NaN   \n",
      "83              9.716000  83.513876          11.930554          NaN   \n",
      "84             15.588000  82.013327          11.716190          NaN   \n",
      "85             11.218667  76.305513          10.900788          NaN   \n",
      "86              8.702667  68.399562           9.771366          NaN   \n",
      "\n",
      "                                          Unnamed: 22  \\\n",
      "82                                                NaN   \n",
      "83                                                NaN   \n",
      "84                                  Task for Outbound   \n",
      "85                                 Order Sorting Rate   \n",
      "86  FC picking robot - (FC (Fast Conveyor) Picking...   \n",
      "\n",
      "                Unnamed: 23               Unnamed: 24  \\\n",
      "82                      NaN                       NaN   \n",
      "83                      NaN                       NaN   \n",
      "84                     TIME  Minutes per items/pallet   \n",
      "85  170 orderlines per hour                       0.3   \n",
      "86         2 x 400 per hour                         0   \n",
      "\n",
      "                                          Unnamed: 25  Unnamed: 26  \n",
      "82                                                NaN          NaN  \n",
      "83                                                NaN          NaN  \n",
      "84                                            MEANING          NaN  \n",
      "85  Rate of picking items using the OSR system per...          NaN  \n",
      "86  Rate of picking items using robotic systems pe...          NaN  \n",
      "\n",
      "[5 rows x 27 columns]\n"
     ]
    }
   ],
   "source": [
    "# Loading datasets\n",
    "\n",
    "df_out = pd.read_excel('Daily outbound.xlsx')\n",
    "\n",
    "print(df_out.columns)\n",
    "# Parse the 'Date' column as a datetime object\n",
    "df_out['Processed_date'] = pd.to_datetime(df_out['Processed_date'])\n",
    "# Create a mask for rows with Processed_date less than '2022-08-01'\n",
    "mask = df_out['Processed_date'] < '2022-08-01'\n",
    "\n",
    "# Drop rows based on the mask\n",
    "df_out = df_out[~mask]\n",
    "# Display the first few rows of the DataFrame\n",
    "print(df_out.head())\n",
    "\n",
    "\n"
   ]
  },
  {
   "cell_type": "code",
   "execution_count": 18,
   "metadata": {},
   "outputs": [
    {
     "name": "stdout",
     "output_type": "stream",
     "text": [
      "Index(['date', 'Week number', 'Weekday', 'Year', 'No of Pallets Inbound ',\n",
      "       ' No of Pallets InboundFrigo ', 'Total inbound Pallets',\n",
      "       'Number of Batches', 'Loading and unloading', 'Inbound desk',\n",
      "       'Inbound Floor', 'Packing check', 'Infeed', 'Interanal transport',\n",
      "       'Depalletizing (auto + manual)\\n', 'Manual Replenishment', 'Minutes',\n",
      "       'Hour', 'Calculated Labour', 'Unnamed: 19', 'Tasks for Inbound\\n',\n",
      "       'TIME per pallet/batch', 'MEANING'],\n",
      "      dtype='object')\n",
      "        date  Week number Weekday  Year  No of Pallets Inbound   \\\n",
      "0 2022-08-01           31     Mon  2022                     156   \n",
      "1 2022-08-02           31     Tue  2022                     126   \n",
      "2 2022-08-03           31     Wed  2022                     176   \n",
      "3 2022-08-04           31     Thu  2022                     148   \n",
      "4 2022-08-05           31     Fri  2022                     172   \n",
      "\n",
      "    No of Pallets InboundFrigo   Total inbound Pallets  Number of Batches  \\\n",
      "0                             0                    156                 30   \n",
      "1                             1                    127                 50   \n",
      "2                            33                    209                 20   \n",
      "3                            31                    179                 63   \n",
      "4                            58                    230                 55   \n",
      "\n",
      "   Loading and unloading  Inbound desk  ...  Interanal transport  \\\n",
      "0             212.727273           300  ...                 1560   \n",
      "1             173.181818           500  ...                 1270   \n",
      "2             285.000000           200  ...                 2090   \n",
      "3             244.090909           630  ...                 1790   \n",
      "4             313.636364           550  ...                 2300   \n",
      "\n",
      "   Depalletizing (auto + manual)\\n  Manual Replenishment      Minutes  \\\n",
      "0                              624                   780  1586.727273   \n",
      "1                              508                   635  1931.181818   \n",
      "2                              836                  1045  1621.000000   \n",
      "3                              716                   895  2535.090909   \n",
      "4                              920                  1150  2608.636364   \n",
      "\n",
      "        Hour  Calculated Labour  Unnamed: 19    Tasks for Inbound\\n  \\\n",
      "0  26.445455           3.777922          NaN  Loading & unloading\\n   \n",
      "1  32.186364           4.598052          NaN         Inbound desk\\n   \n",
      "2  27.016667           3.859524          NaN        Inbound floor\\n   \n",
      "3  42.251515           6.035931          NaN          Packing check   \n",
      "4  43.477273           6.211039          NaN               Infeed\\n   \n",
      "\n",
      "   TIME per pallet/batch                                            MEANING  \n",
      "0               1.363636  33 pallets in 45 minute window ~ 1.36 minutes ...  \n",
      "1              10.000000                               10 minutes per batch  \n",
      "2               2.000000                               2 minutes per pallet  \n",
      "3              15.000000  Time required for checking the packing of spec...  \n",
      "4               2.000000                               2 minutes per pallet  \n",
      "\n",
      "[5 rows x 23 columns]\n"
     ]
    }
   ],
   "source": [
    "df_in = pd.read_excel('Daily inbound.xlsx')\n",
    "print(df_in.columns)\n",
    "\n",
    "# Parse the 'Date' column as a datetime object\n",
    "df_in['date'] = pd.to_datetime(df_in['date'])\n",
    "\n",
    "# Display the first few rows of the DataFrame\n",
    "print(df_in.head())"
   ]
  },
  {
   "cell_type": "markdown",
   "metadata": {},
   "source": [
    "#  Subset selection of  columns to work with"
   ]
  },
  {
   "cell_type": "code",
   "execution_count": 19,
   "metadata": {},
   "outputs": [
    {
     "data": {
      "text/html": [
       "<div>\n",
       "<style scoped>\n",
       "    .dataframe tbody tr th:only-of-type {\n",
       "        vertical-align: middle;\n",
       "    }\n",
       "\n",
       "    .dataframe tbody tr th {\n",
       "        vertical-align: top;\n",
       "    }\n",
       "\n",
       "    .dataframe thead th {\n",
       "        text-align: right;\n",
       "    }\n",
       "</style>\n",
       "<table border=\"1\" class=\"dataframe\">\n",
       "  <thead>\n",
       "    <tr style=\"text-align: right;\">\n",
       "      <th></th>\n",
       "      <th>date</th>\n",
       "      <th>No of Pallets Inbound</th>\n",
       "      <th>No of Pallets InboundFrigo</th>\n",
       "      <th>Number of Batches</th>\n",
       "      <th>Calculated Labour</th>\n",
       "    </tr>\n",
       "  </thead>\n",
       "  <tbody>\n",
       "    <tr>\n",
       "      <th>0</th>\n",
       "      <td>2022-08-01</td>\n",
       "      <td>156</td>\n",
       "      <td>0</td>\n",
       "      <td>30</td>\n",
       "      <td>3.777922</td>\n",
       "    </tr>\n",
       "    <tr>\n",
       "      <th>1</th>\n",
       "      <td>2022-08-02</td>\n",
       "      <td>126</td>\n",
       "      <td>1</td>\n",
       "      <td>50</td>\n",
       "      <td>4.598052</td>\n",
       "    </tr>\n",
       "    <tr>\n",
       "      <th>2</th>\n",
       "      <td>2022-08-03</td>\n",
       "      <td>176</td>\n",
       "      <td>33</td>\n",
       "      <td>20</td>\n",
       "      <td>3.859524</td>\n",
       "    </tr>\n",
       "    <tr>\n",
       "      <th>3</th>\n",
       "      <td>2022-08-04</td>\n",
       "      <td>148</td>\n",
       "      <td>31</td>\n",
       "      <td>63</td>\n",
       "      <td>6.035931</td>\n",
       "    </tr>\n",
       "    <tr>\n",
       "      <th>4</th>\n",
       "      <td>2022-08-05</td>\n",
       "      <td>172</td>\n",
       "      <td>58</td>\n",
       "      <td>55</td>\n",
       "      <td>6.211039</td>\n",
       "    </tr>\n",
       "  </tbody>\n",
       "</table>\n",
       "</div>"
      ],
      "text/plain": [
       "        date  No of Pallets Inbound    No of Pallets InboundFrigo   \\\n",
       "0 2022-08-01                     156                             0   \n",
       "1 2022-08-02                     126                             1   \n",
       "2 2022-08-03                     176                            33   \n",
       "3 2022-08-04                     148                            31   \n",
       "4 2022-08-05                     172                            58   \n",
       "\n",
       "   Number of Batches  Calculated Labour  \n",
       "0                 30           3.777922  \n",
       "1                 50           4.598052  \n",
       "2                 20           3.859524  \n",
       "3                 63           6.035931  \n",
       "4                 55           6.211039  "
      ]
     },
     "execution_count": 19,
     "metadata": {},
     "output_type": "execute_result"
    }
   ],
   "source": [
    "select_in = ['date','No of Pallets Inbound ', ' No of Pallets InboundFrigo ',  'Number of Batches','Calculated Labour']\n",
    "subset_in = df_in[select_in]\n",
    "subset_in.head()"
   ]
  },
  {
   "cell_type": "code",
   "execution_count": 20,
   "metadata": {},
   "outputs": [
    {
     "data": {
      "text/html": [
       "<div>\n",
       "<style scoped>\n",
       "    .dataframe tbody tr th:only-of-type {\n",
       "        vertical-align: middle;\n",
       "    }\n",
       "\n",
       "    .dataframe tbody tr th {\n",
       "        vertical-align: top;\n",
       "    }\n",
       "\n",
       "    .dataframe thead th {\n",
       "        text-align: right;\n",
       "    }\n",
       "</style>\n",
       "<table border=\"1\" class=\"dataframe\">\n",
       "  <thead>\n",
       "    <tr style=\"text-align: right;\">\n",
       "      <th></th>\n",
       "      <th>Processed_date</th>\n",
       "      <th>No of Colli</th>\n",
       "      <th>No of Pallet</th>\n",
       "      <th>SU OSR</th>\n",
       "      <th>SU Manual</th>\n",
       "      <th>FC Manual</th>\n",
       "      <th>Calculated Labour</th>\n",
       "    </tr>\n",
       "  </thead>\n",
       "  <tbody>\n",
       "    <tr>\n",
       "      <th>82</th>\n",
       "      <td>2022-08-01</td>\n",
       "      <td>3167</td>\n",
       "      <td>74</td>\n",
       "      <td>2345</td>\n",
       "      <td>782</td>\n",
       "      <td>2357</td>\n",
       "      <td>12.793866</td>\n",
       "    </tr>\n",
       "    <tr>\n",
       "      <th>83</th>\n",
       "      <td>2022-08-02</td>\n",
       "      <td>2387</td>\n",
       "      <td>98</td>\n",
       "      <td>2756</td>\n",
       "      <td>827</td>\n",
       "      <td>1892</td>\n",
       "      <td>11.930554</td>\n",
       "    </tr>\n",
       "    <tr>\n",
       "      <th>84</th>\n",
       "      <td>2022-08-03</td>\n",
       "      <td>1691</td>\n",
       "      <td>200</td>\n",
       "      <td>2551</td>\n",
       "      <td>758</td>\n",
       "      <td>1846</td>\n",
       "      <td>11.716190</td>\n",
       "    </tr>\n",
       "    <tr>\n",
       "      <th>85</th>\n",
       "      <td>2022-08-04</td>\n",
       "      <td>1964</td>\n",
       "      <td>129</td>\n",
       "      <td>2157</td>\n",
       "      <td>864</td>\n",
       "      <td>1591</td>\n",
       "      <td>10.900788</td>\n",
       "    </tr>\n",
       "    <tr>\n",
       "      <th>86</th>\n",
       "      <td>2022-08-05</td>\n",
       "      <td>2327</td>\n",
       "      <td>84</td>\n",
       "      <td>1971</td>\n",
       "      <td>902</td>\n",
       "      <td>1010</td>\n",
       "      <td>9.771366</td>\n",
       "    </tr>\n",
       "  </tbody>\n",
       "</table>\n",
       "</div>"
      ],
      "text/plain": [
       "   Processed_date  No of Colli  No of Pallet  SU OSR SU Manual   FC Manual  \\\n",
       "82     2022-08-01         3167            74    2345        782       2357   \n",
       "83     2022-08-02         2387            98    2756        827       1892   \n",
       "84     2022-08-03         1691           200    2551        758       1846   \n",
       "85     2022-08-04         1964           129    2157        864       1591   \n",
       "86     2022-08-05         2327            84    1971        902       1010   \n",
       "\n",
       "    Calculated Labour  \n",
       "82          12.793866  \n",
       "83          11.930554  \n",
       "84          11.716190  \n",
       "85          10.900788  \n",
       "86           9.771366  "
      ]
     },
     "execution_count": 20,
     "metadata": {},
     "output_type": "execute_result"
    }
   ],
   "source": [
    "select_out = ['Processed_date','No of Colli',  'No of Pallet','SU OSR', 'SU Manual ','FC Manual','Calculated Labour']\n",
    "subset_out = df_out[select_out]\n",
    "subset_out.head()"
   ]
  },
  {
   "cell_type": "code",
   "execution_count": 21,
   "metadata": {},
   "outputs": [
    {
     "name": "stdout",
     "output_type": "stream",
     "text": [
      "Processed_date       2022-08-29 00:00:00\n",
      "No of Colli                         1894\n",
      "No of Pallet                         115\n",
      "SU OSR                              1558\n",
      "SU Manual                            750\n",
      "FC Manual                           4126\n",
      "Calculated Labour              14.314847\n",
      "Name: 102, dtype: object\n"
     ]
    }
   ],
   "source": [
    "\n",
    "rows_240_to_255 = subset_out.iloc[20]  # Note: Python uses zero-based indexing, so row 240 is at index 239\n",
    "print(rows_240_to_255)\n"
   ]
  },
  {
   "cell_type": "code",
   "execution_count": 22,
   "metadata": {},
   "outputs": [
    {
     "data": {
      "text/plain": [
       "253"
      ]
     },
     "execution_count": 22,
     "metadata": {},
     "output_type": "execute_result"
    }
   ],
   "source": [
    "len(subset_in)"
   ]
  },
  {
   "cell_type": "code",
   "execution_count": 23,
   "metadata": {},
   "outputs": [
    {
     "data": {
      "text/plain": [
       "262"
      ]
     },
     "execution_count": 23,
     "metadata": {},
     "output_type": "execute_result"
    }
   ],
   "source": [
    "\n",
    "len(subset_out)"
   ]
  },
  {
   "cell_type": "markdown",
   "metadata": {},
   "source": [
    "## guys we need to check the datasets, they don't match in length"
   ]
  },
  {
   "cell_type": "code",
   "execution_count": 24,
   "metadata": {},
   "outputs": [
    {
     "name": "stdout",
     "output_type": "stream",
     "text": [
      "2022-08-15: O. L. V. Hemelvaart\n",
      "2022-11-01: Allerheiligen\n",
      "2022-11-11: Wapenstilstand\n",
      "2022-12-25: Kerstmis\n",
      "2023-01-01: Nieuwjaar\n",
      "2023-04-09: Pasen\n",
      "2023-04-10: Paasmaandag\n",
      "2023-05-01: Dag van de Arbeid\n",
      "2023-05-18: O. L. H. Hemelvaart\n",
      "2023-05-28: Pinksteren\n",
      "2023-05-29: Pinkstermaandag\n",
      "2023-07-21: Nationale feestdag\n"
     ]
    }
   ],
   "source": [
    "\n",
    "\n",
    "# Define the country as Belgium\n",
    "belgium_holidays = holidays.BE()\n",
    "\n",
    "# Specify the date range\n",
    "start_date = date(2022, 8, 1)\n",
    "end_date = date(2023, 7, 31)\n",
    "\n",
    "# Print public holidays in the specified period\n",
    "for single_date in (start_date + timedelta(n) for n in range((end_date - start_date).days + 1)):\n",
    "    if single_date in belgium_holidays:\n",
    "        print(f\"{single_date}: {belgium_holidays[single_date]}\")\n"
   ]
  },
  {
   "cell_type": "markdown",
   "metadata": {},
   "source": [
    "# checking for holidays in our dataset (0 for holidays and 1 if not)"
   ]
  },
  {
   "cell_type": "markdown",
   "metadata": {},
   "source": [
    "## Inbound dataset"
   ]
  },
  {
   "cell_type": "code",
   "execution_count": 25,
   "metadata": {},
   "outputs": [
    {
     "name": "stdout",
     "output_type": "stream",
     "text": [
      "Rows corresponding to holidays in Belgium:\n",
      "Empty DataFrame\n",
      "Columns: [date, No of Pallets Inbound ,  No of Pallets InboundFrigo , Number of Batches, Calculated Labour, is_holiday]\n",
      "Index: []\n"
     ]
    }
   ],
   "source": [
    "# Function to check if a date is a holiday\n",
    "def is_holiday(row):\n",
    "    return int(row['date'] not in belgium_holidays)\n",
    "\n",
    "# Apply the function to create a new 'is_holiday' column\n",
    "subset_in['is_holiday'] =subset_in.apply(is_holiday, axis=1)\n",
    "# Filter rows where the date is a holiday\n",
    "holiday_rows = subset_in[subset_in['date'].isin(belgium_holidays.keys())]\n",
    "\n",
    "# Print the rows corresponding to holidays\n",
    "print(\"Rows corresponding to holidays in Belgium:\")\n",
    "print(holiday_rows)\n"
   ]
  },
  {
   "cell_type": "markdown",
   "metadata": {},
   "source": [
    "## Outbound dataset"
   ]
  },
  {
   "cell_type": "code",
   "execution_count": 26,
   "metadata": {},
   "outputs": [
    {
     "name": "stdout",
     "output_type": "stream",
     "text": [
      "Rows corresponding to holidays in Belgium:\n",
      "    Processed_date  No of Colli  No of Pallet  SU OSR SU Manual   FC Manual  \\\n",
      "92      2022-08-15          273             0      62        206        101   \n",
      "149     2022-11-01          298            10     123        226        473   \n",
      "157     2022-11-11          370            10     186        181        485   \n",
      "280     2023-05-01          457             4      66        210        411   \n",
      "337     2023-07-21           88             1      30         67         95   \n",
      "\n",
      "     Calculated Labour  is_holiday  \n",
      "92            1.236839           0  \n",
      "149           2.143655           0  \n",
      "157           2.128168           0  \n",
      "280           2.027232           0  \n",
      "337           0.530266           0  \n"
     ]
    }
   ],
   "source": [
    "def is_holiday(row):\n",
    "    return int(row['Processed_date'] not in belgium_holidays)\n",
    "\n",
    "# Apply the function to create a new 'is_holiday' column\n",
    "subset_out['is_holiday'] = subset_out.apply(is_holiday, axis=1)\n",
    "# Filter rows where the date is a holiday\n",
    "holiday_rows = subset_out[subset_out['Processed_date'].isin(belgium_holidays.keys())]\n",
    "\n",
    "# Print the rows corresponding to holidays\n",
    "print(\"Rows corresponding to holidays in Belgium:\")\n",
    "print(holiday_rows)\n"
   ]
  },
  {
   "cell_type": "markdown",
   "metadata": {},
   "source": [
    "### Hence we add holidays in the   outbound dataset as a feature to predict labour"
   ]
  },
  {
   "cell_type": "markdown",
   "metadata": {},
   "source": [
    "# Taking into account the day of the week and the month"
   ]
  },
  {
   "cell_type": "code",
   "execution_count": 27,
   "metadata": {},
   "outputs": [],
   "source": [
    "# Create a new column for the day of the week (0 = Monday, 1 = Tuesday, ..., 6 = Sunday)\n",
    "subset_in['day_of_week'] = subset_in['date'].dt.dayofweek\n",
    "subset_in['day_of_month'] = subset_in['date'].dt.day\n",
    "\n",
    "# Create a new column for the month\n",
    "subset_in['month'] = subset_in['date'].dt.month\n",
    " \n",
    "\n",
    "# Create a new column for the day of the week (0 = Monday, 1 = Tuesday, ..., 6 = Sunday)\n",
    "subset_out['day_of_week'] = subset_out['Processed_date'].dt.dayofweek\n",
    "subset_out['day_of_month'] = subset_out['Processed_date'].dt.day\n",
    "# Create a new column for the month\n",
    "subset_out['month'] = subset_out['Processed_date'].dt.month\n"
   ]
  },
  {
   "cell_type": "markdown",
   "metadata": {},
   "source": [
    "###  0 for Monday and so on"
   ]
  },
  {
   "cell_type": "code",
   "execution_count": 28,
   "metadata": {},
   "outputs": [
    {
     "data": {
      "text/html": [
       "<div>\n",
       "<style scoped>\n",
       "    .dataframe tbody tr th:only-of-type {\n",
       "        vertical-align: middle;\n",
       "    }\n",
       "\n",
       "    .dataframe tbody tr th {\n",
       "        vertical-align: top;\n",
       "    }\n",
       "\n",
       "    .dataframe thead th {\n",
       "        text-align: right;\n",
       "    }\n",
       "</style>\n",
       "<table border=\"1\" class=\"dataframe\">\n",
       "  <thead>\n",
       "    <tr style=\"text-align: right;\">\n",
       "      <th></th>\n",
       "      <th>date</th>\n",
       "      <th>No of Pallets Inbound</th>\n",
       "      <th>No of Pallets InboundFrigo</th>\n",
       "      <th>Number of Batches</th>\n",
       "      <th>Calculated Labour</th>\n",
       "      <th>is_holiday</th>\n",
       "      <th>day_of_week</th>\n",
       "      <th>day_of_month</th>\n",
       "      <th>month</th>\n",
       "    </tr>\n",
       "  </thead>\n",
       "  <tbody>\n",
       "    <tr>\n",
       "      <th>0</th>\n",
       "      <td>2022-08-01</td>\n",
       "      <td>156</td>\n",
       "      <td>0</td>\n",
       "      <td>30</td>\n",
       "      <td>3.777922</td>\n",
       "      <td>1</td>\n",
       "      <td>0</td>\n",
       "      <td>1</td>\n",
       "      <td>8</td>\n",
       "    </tr>\n",
       "    <tr>\n",
       "      <th>1</th>\n",
       "      <td>2022-08-02</td>\n",
       "      <td>126</td>\n",
       "      <td>1</td>\n",
       "      <td>50</td>\n",
       "      <td>4.598052</td>\n",
       "      <td>1</td>\n",
       "      <td>1</td>\n",
       "      <td>2</td>\n",
       "      <td>8</td>\n",
       "    </tr>\n",
       "    <tr>\n",
       "      <th>2</th>\n",
       "      <td>2022-08-03</td>\n",
       "      <td>176</td>\n",
       "      <td>33</td>\n",
       "      <td>20</td>\n",
       "      <td>3.859524</td>\n",
       "      <td>1</td>\n",
       "      <td>2</td>\n",
       "      <td>3</td>\n",
       "      <td>8</td>\n",
       "    </tr>\n",
       "    <tr>\n",
       "      <th>3</th>\n",
       "      <td>2022-08-04</td>\n",
       "      <td>148</td>\n",
       "      <td>31</td>\n",
       "      <td>63</td>\n",
       "      <td>6.035931</td>\n",
       "      <td>1</td>\n",
       "      <td>3</td>\n",
       "      <td>4</td>\n",
       "      <td>8</td>\n",
       "    </tr>\n",
       "    <tr>\n",
       "      <th>4</th>\n",
       "      <td>2022-08-05</td>\n",
       "      <td>172</td>\n",
       "      <td>58</td>\n",
       "      <td>55</td>\n",
       "      <td>6.211039</td>\n",
       "      <td>1</td>\n",
       "      <td>4</td>\n",
       "      <td>5</td>\n",
       "      <td>8</td>\n",
       "    </tr>\n",
       "  </tbody>\n",
       "</table>\n",
       "</div>"
      ],
      "text/plain": [
       "        date  No of Pallets Inbound    No of Pallets InboundFrigo   \\\n",
       "0 2022-08-01                     156                             0   \n",
       "1 2022-08-02                     126                             1   \n",
       "2 2022-08-03                     176                            33   \n",
       "3 2022-08-04                     148                            31   \n",
       "4 2022-08-05                     172                            58   \n",
       "\n",
       "   Number of Batches  Calculated Labour  is_holiday  day_of_week  \\\n",
       "0                 30           3.777922           1            0   \n",
       "1                 50           4.598052           1            1   \n",
       "2                 20           3.859524           1            2   \n",
       "3                 63           6.035931           1            3   \n",
       "4                 55           6.211039           1            4   \n",
       "\n",
       "   day_of_month  month  \n",
       "0             1      8  \n",
       "1             2      8  \n",
       "2             3      8  \n",
       "3             4      8  \n",
       "4             5      8  "
      ]
     },
     "execution_count": 28,
     "metadata": {},
     "output_type": "execute_result"
    }
   ],
   "source": [
    "subset_in.head()"
   ]
  },
  {
   "cell_type": "code",
   "execution_count": 29,
   "metadata": {},
   "outputs": [
    {
     "data": {
      "text/html": [
       "<div>\n",
       "<style scoped>\n",
       "    .dataframe tbody tr th:only-of-type {\n",
       "        vertical-align: middle;\n",
       "    }\n",
       "\n",
       "    .dataframe tbody tr th {\n",
       "        vertical-align: top;\n",
       "    }\n",
       "\n",
       "    .dataframe thead th {\n",
       "        text-align: right;\n",
       "    }\n",
       "</style>\n",
       "<table border=\"1\" class=\"dataframe\">\n",
       "  <thead>\n",
       "    <tr style=\"text-align: right;\">\n",
       "      <th></th>\n",
       "      <th>Processed_date</th>\n",
       "      <th>No of Colli</th>\n",
       "      <th>No of Pallet</th>\n",
       "      <th>SU OSR</th>\n",
       "      <th>SU Manual</th>\n",
       "      <th>FC Manual</th>\n",
       "      <th>Calculated Labour</th>\n",
       "      <th>is_holiday</th>\n",
       "      <th>day_of_week</th>\n",
       "      <th>day_of_month</th>\n",
       "      <th>month</th>\n",
       "    </tr>\n",
       "  </thead>\n",
       "  <tbody>\n",
       "    <tr>\n",
       "      <th>82</th>\n",
       "      <td>2022-08-01</td>\n",
       "      <td>3167</td>\n",
       "      <td>74</td>\n",
       "      <td>2345</td>\n",
       "      <td>782</td>\n",
       "      <td>2357</td>\n",
       "      <td>12.793866</td>\n",
       "      <td>1</td>\n",
       "      <td>0</td>\n",
       "      <td>1</td>\n",
       "      <td>8</td>\n",
       "    </tr>\n",
       "    <tr>\n",
       "      <th>83</th>\n",
       "      <td>2022-08-02</td>\n",
       "      <td>2387</td>\n",
       "      <td>98</td>\n",
       "      <td>2756</td>\n",
       "      <td>827</td>\n",
       "      <td>1892</td>\n",
       "      <td>11.930554</td>\n",
       "      <td>1</td>\n",
       "      <td>1</td>\n",
       "      <td>2</td>\n",
       "      <td>8</td>\n",
       "    </tr>\n",
       "    <tr>\n",
       "      <th>84</th>\n",
       "      <td>2022-08-03</td>\n",
       "      <td>1691</td>\n",
       "      <td>200</td>\n",
       "      <td>2551</td>\n",
       "      <td>758</td>\n",
       "      <td>1846</td>\n",
       "      <td>11.716190</td>\n",
       "      <td>1</td>\n",
       "      <td>2</td>\n",
       "      <td>3</td>\n",
       "      <td>8</td>\n",
       "    </tr>\n",
       "    <tr>\n",
       "      <th>85</th>\n",
       "      <td>2022-08-04</td>\n",
       "      <td>1964</td>\n",
       "      <td>129</td>\n",
       "      <td>2157</td>\n",
       "      <td>864</td>\n",
       "      <td>1591</td>\n",
       "      <td>10.900788</td>\n",
       "      <td>1</td>\n",
       "      <td>3</td>\n",
       "      <td>4</td>\n",
       "      <td>8</td>\n",
       "    </tr>\n",
       "    <tr>\n",
       "      <th>86</th>\n",
       "      <td>2022-08-05</td>\n",
       "      <td>2327</td>\n",
       "      <td>84</td>\n",
       "      <td>1971</td>\n",
       "      <td>902</td>\n",
       "      <td>1010</td>\n",
       "      <td>9.771366</td>\n",
       "      <td>1</td>\n",
       "      <td>4</td>\n",
       "      <td>5</td>\n",
       "      <td>8</td>\n",
       "    </tr>\n",
       "  </tbody>\n",
       "</table>\n",
       "</div>"
      ],
      "text/plain": [
       "   Processed_date  No of Colli  No of Pallet  SU OSR SU Manual   FC Manual  \\\n",
       "82     2022-08-01         3167            74    2345        782       2357   \n",
       "83     2022-08-02         2387            98    2756        827       1892   \n",
       "84     2022-08-03         1691           200    2551        758       1846   \n",
       "85     2022-08-04         1964           129    2157        864       1591   \n",
       "86     2022-08-05         2327            84    1971        902       1010   \n",
       "\n",
       "    Calculated Labour  is_holiday  day_of_week  day_of_month  month  \n",
       "82          12.793866           1            0             1      8  \n",
       "83          11.930554           1            1             2      8  \n",
       "84          11.716190           1            2             3      8  \n",
       "85          10.900788           1            3             4      8  \n",
       "86           9.771366           1            4             5      8  "
      ]
     },
     "execution_count": 29,
     "metadata": {},
     "output_type": "execute_result"
    }
   ],
   "source": [
    "subset_out.head()"
   ]
  },
  {
   "cell_type": "markdown",
   "metadata": {},
   "source": [
    "## Features  in the  Random forest  model  for the outbound only"
   ]
  },
  {
   "cell_type": "markdown",
   "metadata": {},
   "source": [
    "## Outbound"
   ]
  },
  {
   "cell_type": "code",
   "execution_count": 30,
   "metadata": {},
   "outputs": [
    {
     "data": {
      "text/html": [
       "<div>\n",
       "<style scoped>\n",
       "    .dataframe tbody tr th:only-of-type {\n",
       "        vertical-align: middle;\n",
       "    }\n",
       "\n",
       "    .dataframe tbody tr th {\n",
       "        vertical-align: top;\n",
       "    }\n",
       "\n",
       "    .dataframe thead th {\n",
       "        text-align: right;\n",
       "    }\n",
       "</style>\n",
       "<table border=\"1\" class=\"dataframe\">\n",
       "  <thead>\n",
       "    <tr style=\"text-align: right;\">\n",
       "      <th></th>\n",
       "      <th>No of Colli</th>\n",
       "      <th>No of Pallet</th>\n",
       "      <th>SU OSR</th>\n",
       "      <th>SU Manual</th>\n",
       "      <th>FC Manual</th>\n",
       "      <th>is_holiday</th>\n",
       "      <th>day_of_week</th>\n",
       "      <th>day_of_month</th>\n",
       "      <th>month</th>\n",
       "      <th>Calculated Labour</th>\n",
       "    </tr>\n",
       "  </thead>\n",
       "  <tbody>\n",
       "    <tr>\n",
       "      <th>82</th>\n",
       "      <td>3167</td>\n",
       "      <td>74</td>\n",
       "      <td>2345</td>\n",
       "      <td>782</td>\n",
       "      <td>2357</td>\n",
       "      <td>1</td>\n",
       "      <td>0</td>\n",
       "      <td>1</td>\n",
       "      <td>8</td>\n",
       "      <td>12.793866</td>\n",
       "    </tr>\n",
       "    <tr>\n",
       "      <th>83</th>\n",
       "      <td>2387</td>\n",
       "      <td>98</td>\n",
       "      <td>2756</td>\n",
       "      <td>827</td>\n",
       "      <td>1892</td>\n",
       "      <td>1</td>\n",
       "      <td>1</td>\n",
       "      <td>2</td>\n",
       "      <td>8</td>\n",
       "      <td>11.930554</td>\n",
       "    </tr>\n",
       "    <tr>\n",
       "      <th>84</th>\n",
       "      <td>1691</td>\n",
       "      <td>200</td>\n",
       "      <td>2551</td>\n",
       "      <td>758</td>\n",
       "      <td>1846</td>\n",
       "      <td>1</td>\n",
       "      <td>2</td>\n",
       "      <td>3</td>\n",
       "      <td>8</td>\n",
       "      <td>11.716190</td>\n",
       "    </tr>\n",
       "    <tr>\n",
       "      <th>85</th>\n",
       "      <td>1964</td>\n",
       "      <td>129</td>\n",
       "      <td>2157</td>\n",
       "      <td>864</td>\n",
       "      <td>1591</td>\n",
       "      <td>1</td>\n",
       "      <td>3</td>\n",
       "      <td>4</td>\n",
       "      <td>8</td>\n",
       "      <td>10.900788</td>\n",
       "    </tr>\n",
       "    <tr>\n",
       "      <th>86</th>\n",
       "      <td>2327</td>\n",
       "      <td>84</td>\n",
       "      <td>1971</td>\n",
       "      <td>902</td>\n",
       "      <td>1010</td>\n",
       "      <td>1</td>\n",
       "      <td>4</td>\n",
       "      <td>5</td>\n",
       "      <td>8</td>\n",
       "      <td>9.771366</td>\n",
       "    </tr>\n",
       "  </tbody>\n",
       "</table>\n",
       "</div>"
      ],
      "text/plain": [
       "    No of Colli  No of Pallet  SU OSR SU Manual   FC Manual  is_holiday  \\\n",
       "82         3167            74    2345        782       2357           1   \n",
       "83         2387            98    2756        827       1892           1   \n",
       "84         1691           200    2551        758       1846           1   \n",
       "85         1964           129    2157        864       1591           1   \n",
       "86         2327            84    1971        902       1010           1   \n",
       "\n",
       "    day_of_week  day_of_month  month  Calculated Labour  \n",
       "82            0             1      8          12.793866  \n",
       "83            1             2      8          11.930554  \n",
       "84            2             3      8          11.716190  \n",
       "85            3             4      8          10.900788  \n",
       "86            4             5      8           9.771366  "
      ]
     },
     "execution_count": 30,
     "metadata": {},
     "output_type": "execute_result"
    }
   ],
   "source": [
    "features = ['No of Colli',  'No of Pallet','SU OSR', 'SU Manual ','FC Manual', 'is_holiday','day_of_week','day_of_month','month','Calculated Labour']\n",
    "outbound =subset_out[features]\n",
    "outbound.head()"
   ]
  },
  {
   "cell_type": "markdown",
   "metadata": {},
   "source": [
    "#  creating an 80% training set of our data"
   ]
  },
  {
   "cell_type": "code",
   "execution_count": 31,
   "metadata": {},
   "outputs": [
    {
     "data": {
      "text/html": [
       "<div>\n",
       "<style scoped>\n",
       "    .dataframe tbody tr th:only-of-type {\n",
       "        vertical-align: middle;\n",
       "    }\n",
       "\n",
       "    .dataframe tbody tr th {\n",
       "        vertical-align: top;\n",
       "    }\n",
       "\n",
       "    .dataframe thead th {\n",
       "        text-align: right;\n",
       "    }\n",
       "</style>\n",
       "<table border=\"1\" class=\"dataframe\">\n",
       "  <thead>\n",
       "    <tr style=\"text-align: right;\">\n",
       "      <th></th>\n",
       "      <th>No of Colli</th>\n",
       "      <th>No of Pallet</th>\n",
       "      <th>SU OSR</th>\n",
       "      <th>SU Manual</th>\n",
       "      <th>FC Manual</th>\n",
       "      <th>is_holiday</th>\n",
       "      <th>day_of_week</th>\n",
       "      <th>day_of_month</th>\n",
       "      <th>month</th>\n",
       "      <th>Calculated Labour</th>\n",
       "      <th>is_train</th>\n",
       "    </tr>\n",
       "  </thead>\n",
       "  <tbody>\n",
       "    <tr>\n",
       "      <th>82</th>\n",
       "      <td>3167</td>\n",
       "      <td>74</td>\n",
       "      <td>2345</td>\n",
       "      <td>782</td>\n",
       "      <td>2357</td>\n",
       "      <td>1</td>\n",
       "      <td>0</td>\n",
       "      <td>1</td>\n",
       "      <td>8</td>\n",
       "      <td>12.793866</td>\n",
       "      <td>True</td>\n",
       "    </tr>\n",
       "    <tr>\n",
       "      <th>83</th>\n",
       "      <td>2387</td>\n",
       "      <td>98</td>\n",
       "      <td>2756</td>\n",
       "      <td>827</td>\n",
       "      <td>1892</td>\n",
       "      <td>1</td>\n",
       "      <td>1</td>\n",
       "      <td>2</td>\n",
       "      <td>8</td>\n",
       "      <td>11.930554</td>\n",
       "      <td>True</td>\n",
       "    </tr>\n",
       "    <tr>\n",
       "      <th>84</th>\n",
       "      <td>1691</td>\n",
       "      <td>200</td>\n",
       "      <td>2551</td>\n",
       "      <td>758</td>\n",
       "      <td>1846</td>\n",
       "      <td>1</td>\n",
       "      <td>2</td>\n",
       "      <td>3</td>\n",
       "      <td>8</td>\n",
       "      <td>11.716190</td>\n",
       "      <td>True</td>\n",
       "    </tr>\n",
       "    <tr>\n",
       "      <th>85</th>\n",
       "      <td>1964</td>\n",
       "      <td>129</td>\n",
       "      <td>2157</td>\n",
       "      <td>864</td>\n",
       "      <td>1591</td>\n",
       "      <td>1</td>\n",
       "      <td>3</td>\n",
       "      <td>4</td>\n",
       "      <td>8</td>\n",
       "      <td>10.900788</td>\n",
       "      <td>True</td>\n",
       "    </tr>\n",
       "    <tr>\n",
       "      <th>86</th>\n",
       "      <td>2327</td>\n",
       "      <td>84</td>\n",
       "      <td>1971</td>\n",
       "      <td>902</td>\n",
       "      <td>1010</td>\n",
       "      <td>1</td>\n",
       "      <td>4</td>\n",
       "      <td>5</td>\n",
       "      <td>8</td>\n",
       "      <td>9.771366</td>\n",
       "      <td>True</td>\n",
       "    </tr>\n",
       "  </tbody>\n",
       "</table>\n",
       "</div>"
      ],
      "text/plain": [
       "    No of Colli  No of Pallet  SU OSR SU Manual   FC Manual  is_holiday  \\\n",
       "82         3167            74    2345        782       2357           1   \n",
       "83         2387            98    2756        827       1892           1   \n",
       "84         1691           200    2551        758       1846           1   \n",
       "85         1964           129    2157        864       1591           1   \n",
       "86         2327            84    1971        902       1010           1   \n",
       "\n",
       "    day_of_week  day_of_month  month  Calculated Labour  is_train  \n",
       "82            0             1      8          12.793866      True  \n",
       "83            1             2      8          11.930554      True  \n",
       "84            2             3      8          11.716190      True  \n",
       "85            3             4      8          10.900788      True  \n",
       "86            4             5      8           9.771366      True  "
      ]
     },
     "execution_count": 31,
     "metadata": {},
     "output_type": "execute_result"
    }
   ],
   "source": [
    "outbound['is_train']= np.random.uniform(0,1,len(outbound)) <= 0.80\n",
    "outbound.head()"
   ]
  },
  {
   "cell_type": "code",
   "execution_count": 32,
   "metadata": {},
   "outputs": [
    {
     "name": "stdout",
     "output_type": "stream",
     "text": [
      "training length:  202\n",
      "test length:  60\n"
     ]
    }
   ],
   "source": [
    "train_out, test_out = outbound[outbound['is_train']== True], outbound[outbound['is_train']== False]\n",
    "print('training length: ' ,len(train_out))\n",
    "print('test length: ' ,len(test_out))"
   ]
  },
  {
   "cell_type": "code",
   "execution_count": 33,
   "metadata": {},
   "outputs": [
    {
     "data": {
      "text/plain": [
       "Index(['No of Colli', 'No of Pallet', 'SU OSR', 'SU Manual ', 'FC Manual',\n",
       "       'is_holiday', 'day_of_week', 'day_of_month', 'month'],\n",
       "      dtype='object')"
      ]
     },
     "execution_count": 33,
     "metadata": {},
     "output_type": "execute_result"
    }
   ],
   "source": [
    "model_features = outbound.columns[:9]\n",
    "model_features"
   ]
  },
  {
   "cell_type": "code",
   "execution_count": 34,
   "metadata": {},
   "outputs": [
    {
     "data": {
      "text/plain": [
       "202"
      ]
     },
     "execution_count": 34,
     "metadata": {},
     "output_type": "execute_result"
    }
   ],
   "source": [
    "#  target variable labour\n",
    "\n",
    "\n",
    "y = train_out['Calculated Labour']\n",
    "len(y)"
   ]
  },
  {
   "cell_type": "code",
   "execution_count": 35,
   "metadata": {},
   "outputs": [],
   "source": [
    "# Identify and remove rows with '#VALUE!'\n",
    "mask = y == '#VALUE!'\n",
    "\n",
    "y = y[~mask]\n",
    "\n",
    "train_out = train_out[~mask]\n"
   ]
  },
  {
   "cell_type": "code",
   "execution_count": 36,
   "metadata": {},
   "outputs": [],
   "source": [
    "mask1 = y== '-'\n",
    "y = y[~mask1]\n",
    "train_out = train_out[~mask1]"
   ]
  },
  {
   "cell_type": "code",
   "execution_count": 37,
   "metadata": {},
   "outputs": [
    {
     "data": {
      "text/plain": [
       "202"
      ]
     },
     "execution_count": 37,
     "metadata": {},
     "output_type": "execute_result"
    }
   ],
   "source": [
    "len(y)"
   ]
  },
  {
   "cell_type": "code",
   "execution_count": 38,
   "metadata": {},
   "outputs": [
    {
     "data": {
      "text/html": [
       "<style>#sk-container-id-1 {color: black;}#sk-container-id-1 pre{padding: 0;}#sk-container-id-1 div.sk-toggleable {background-color: white;}#sk-container-id-1 label.sk-toggleable__label {cursor: pointer;display: block;width: 100%;margin-bottom: 0;padding: 0.3em;box-sizing: border-box;text-align: center;}#sk-container-id-1 label.sk-toggleable__label-arrow:before {content: \"▸\";float: left;margin-right: 0.25em;color: #696969;}#sk-container-id-1 label.sk-toggleable__label-arrow:hover:before {color: black;}#sk-container-id-1 div.sk-estimator:hover label.sk-toggleable__label-arrow:before {color: black;}#sk-container-id-1 div.sk-toggleable__content {max-height: 0;max-width: 0;overflow: hidden;text-align: left;background-color: #f0f8ff;}#sk-container-id-1 div.sk-toggleable__content pre {margin: 0.2em;color: black;border-radius: 0.25em;background-color: #f0f8ff;}#sk-container-id-1 input.sk-toggleable__control:checked~div.sk-toggleable__content {max-height: 200px;max-width: 100%;overflow: auto;}#sk-container-id-1 input.sk-toggleable__control:checked~label.sk-toggleable__label-arrow:before {content: \"▾\";}#sk-container-id-1 div.sk-estimator input.sk-toggleable__control:checked~label.sk-toggleable__label {background-color: #d4ebff;}#sk-container-id-1 div.sk-label input.sk-toggleable__control:checked~label.sk-toggleable__label {background-color: #d4ebff;}#sk-container-id-1 input.sk-hidden--visually {border: 0;clip: rect(1px 1px 1px 1px);clip: rect(1px, 1px, 1px, 1px);height: 1px;margin: -1px;overflow: hidden;padding: 0;position: absolute;width: 1px;}#sk-container-id-1 div.sk-estimator {font-family: monospace;background-color: #f0f8ff;border: 1px dotted black;border-radius: 0.25em;box-sizing: border-box;margin-bottom: 0.5em;}#sk-container-id-1 div.sk-estimator:hover {background-color: #d4ebff;}#sk-container-id-1 div.sk-parallel-item::after {content: \"\";width: 100%;border-bottom: 1px solid gray;flex-grow: 1;}#sk-container-id-1 div.sk-label:hover label.sk-toggleable__label {background-color: #d4ebff;}#sk-container-id-1 div.sk-serial::before {content: \"\";position: absolute;border-left: 1px solid gray;box-sizing: border-box;top: 0;bottom: 0;left: 50%;z-index: 0;}#sk-container-id-1 div.sk-serial {display: flex;flex-direction: column;align-items: center;background-color: white;padding-right: 0.2em;padding-left: 0.2em;position: relative;}#sk-container-id-1 div.sk-item {position: relative;z-index: 1;}#sk-container-id-1 div.sk-parallel {display: flex;align-items: stretch;justify-content: center;background-color: white;position: relative;}#sk-container-id-1 div.sk-item::before, #sk-container-id-1 div.sk-parallel-item::before {content: \"\";position: absolute;border-left: 1px solid gray;box-sizing: border-box;top: 0;bottom: 0;left: 50%;z-index: -1;}#sk-container-id-1 div.sk-parallel-item {display: flex;flex-direction: column;z-index: 1;position: relative;background-color: white;}#sk-container-id-1 div.sk-parallel-item:first-child::after {align-self: flex-end;width: 50%;}#sk-container-id-1 div.sk-parallel-item:last-child::after {align-self: flex-start;width: 50%;}#sk-container-id-1 div.sk-parallel-item:only-child::after {width: 0;}#sk-container-id-1 div.sk-dashed-wrapped {border: 1px dashed gray;margin: 0 0.4em 0.5em 0.4em;box-sizing: border-box;padding-bottom: 0.4em;background-color: white;}#sk-container-id-1 div.sk-label label {font-family: monospace;font-weight: bold;display: inline-block;line-height: 1.2em;}#sk-container-id-1 div.sk-label-container {text-align: center;}#sk-container-id-1 div.sk-container {/* jupyter's `normalize.less` sets `[hidden] { display: none; }` but bootstrap.min.css set `[hidden] { display: none !important; }` so we also need the `!important` here to be able to override the default hidden behavior on the sphinx rendered scikit-learn.org. See: https://github.com/scikit-learn/scikit-learn/issues/21755 */display: inline-block !important;position: relative;}#sk-container-id-1 div.sk-text-repr-fallback {display: none;}</style><div id=\"sk-container-id-1\" class=\"sk-top-container\"><div class=\"sk-text-repr-fallback\"><pre>RandomForestRegressor(n_jobs=3, random_state=0)</pre><b>In a Jupyter environment, please rerun this cell to show the HTML representation or trust the notebook. <br />On GitHub, the HTML representation is unable to render, please try loading this page with nbviewer.org.</b></div><div class=\"sk-container\" hidden><div class=\"sk-item\"><div class=\"sk-estimator sk-toggleable\"><input class=\"sk-toggleable__control sk-hidden--visually\" id=\"sk-estimator-id-1\" type=\"checkbox\" checked><label for=\"sk-estimator-id-1\" class=\"sk-toggleable__label sk-toggleable__label-arrow\">RandomForestRegressor</label><div class=\"sk-toggleable__content\"><pre>RandomForestRegressor(n_jobs=3, random_state=0)</pre></div></div></div></div></div>"
      ],
      "text/plain": [
       "RandomForestRegressor(n_jobs=3, random_state=0)"
      ]
     },
     "execution_count": 38,
     "metadata": {},
     "output_type": "execute_result"
    }
   ],
   "source": [
    "clf1 = RandomForestRegressor(n_jobs=3, random_state= 0)\n",
    "clf1.fit(train_out[model_features], y)"
   ]
  },
  {
   "cell_type": "code",
   "execution_count": 93,
   "metadata": {},
   "outputs": [],
   "source": [
    "#clf1.predict(test_out[model_features])"
   ]
  },
  {
   "cell_type": "code",
   "execution_count": 39,
   "metadata": {},
   "outputs": [],
   "source": [
    "# Example of dropping rows with missing values\n",
    "test_out = test_out.replace('-', np.nan)\n",
    "test_out = test_out.dropna()\n"
   ]
  },
  {
   "cell_type": "code",
   "execution_count": 40,
   "metadata": {},
   "outputs": [
    {
     "data": {
      "text/html": [
       "<div>\n",
       "<style scoped>\n",
       "    .dataframe tbody tr th:only-of-type {\n",
       "        vertical-align: middle;\n",
       "    }\n",
       "\n",
       "    .dataframe tbody tr th {\n",
       "        vertical-align: top;\n",
       "    }\n",
       "\n",
       "    .dataframe thead th {\n",
       "        text-align: right;\n",
       "    }\n",
       "</style>\n",
       "<table border=\"1\" class=\"dataframe\">\n",
       "  <thead>\n",
       "    <tr style=\"text-align: right;\">\n",
       "      <th></th>\n",
       "      <th>No of Colli</th>\n",
       "      <th>No of Pallet</th>\n",
       "      <th>SU OSR</th>\n",
       "      <th>SU Manual</th>\n",
       "      <th>FC Manual</th>\n",
       "      <th>is_holiday</th>\n",
       "      <th>day_of_week</th>\n",
       "      <th>day_of_month</th>\n",
       "      <th>month</th>\n",
       "      <th>Calculated Labour</th>\n",
       "      <th>is_train</th>\n",
       "      <th>preds</th>\n",
       "    </tr>\n",
       "  </thead>\n",
       "  <tbody>\n",
       "    <tr>\n",
       "      <th>95</th>\n",
       "      <td>1687</td>\n",
       "      <td>198</td>\n",
       "      <td>2548</td>\n",
       "      <td>780.0</td>\n",
       "      <td>2994</td>\n",
       "      <td>1</td>\n",
       "      <td>3</td>\n",
       "      <td>18</td>\n",
       "      <td>8</td>\n",
       "      <td>13.819256</td>\n",
       "      <td>False</td>\n",
       "      <td>13.469351</td>\n",
       "    </tr>\n",
       "    <tr>\n",
       "      <th>102</th>\n",
       "      <td>1894</td>\n",
       "      <td>115</td>\n",
       "      <td>1558</td>\n",
       "      <td>750.0</td>\n",
       "      <td>4126</td>\n",
       "      <td>1</td>\n",
       "      <td>0</td>\n",
       "      <td>29</td>\n",
       "      <td>8</td>\n",
       "      <td>14.314847</td>\n",
       "      <td>False</td>\n",
       "      <td>14.408923</td>\n",
       "    </tr>\n",
       "    <tr>\n",
       "      <th>103</th>\n",
       "      <td>2140</td>\n",
       "      <td>130</td>\n",
       "      <td>2285</td>\n",
       "      <td>960.0</td>\n",
       "      <td>1310</td>\n",
       "      <td>1</td>\n",
       "      <td>1</td>\n",
       "      <td>30</td>\n",
       "      <td>8</td>\n",
       "      <td>11.032152</td>\n",
       "      <td>False</td>\n",
       "      <td>10.486889</td>\n",
       "    </tr>\n",
       "    <tr>\n",
       "      <th>106</th>\n",
       "      <td>3026</td>\n",
       "      <td>94</td>\n",
       "      <td>2874</td>\n",
       "      <td>1264.0</td>\n",
       "      <td>1947</td>\n",
       "      <td>1</td>\n",
       "      <td>4</td>\n",
       "      <td>2</td>\n",
       "      <td>9</td>\n",
       "      <td>14.279404</td>\n",
       "      <td>False</td>\n",
       "      <td>14.346142</td>\n",
       "    </tr>\n",
       "    <tr>\n",
       "      <th>107</th>\n",
       "      <td>3405</td>\n",
       "      <td>134</td>\n",
       "      <td>2961</td>\n",
       "      <td>1848.0</td>\n",
       "      <td>1996</td>\n",
       "      <td>1</td>\n",
       "      <td>0</td>\n",
       "      <td>5</td>\n",
       "      <td>9</td>\n",
       "      <td>17.279664</td>\n",
       "      <td>False</td>\n",
       "      <td>15.211917</td>\n",
       "    </tr>\n",
       "  </tbody>\n",
       "</table>\n",
       "</div>"
      ],
      "text/plain": [
       "     No of Colli  No of Pallet  SU OSR  SU Manual   FC Manual  is_holiday  \\\n",
       "95          1687           198    2548       780.0       2994           1   \n",
       "102         1894           115    1558       750.0       4126           1   \n",
       "103         2140           130    2285       960.0       1310           1   \n",
       "106         3026            94    2874      1264.0       1947           1   \n",
       "107         3405           134    2961      1848.0       1996           1   \n",
       "\n",
       "     day_of_week  day_of_month  month  Calculated Labour  is_train      preds  \n",
       "95             3            18      8          13.819256     False  13.469351  \n",
       "102            0            29      8          14.314847     False  14.408923  \n",
       "103            1            30      8          11.032152     False  10.486889  \n",
       "106            4             2      9          14.279404     False  14.346142  \n",
       "107            0             5      9          17.279664     False  15.211917  "
      ]
     },
     "execution_count": 40,
     "metadata": {},
     "output_type": "execute_result"
    }
   ],
   "source": [
    "test_out['preds'] = clf1.predict(test_out[model_features])\n",
    "test_out.head()"
   ]
  },
  {
   "cell_type": "code",
   "execution_count": 41,
   "metadata": {},
   "outputs": [
    {
     "data": {
      "text/html": [
       "<div>\n",
       "<style scoped>\n",
       "    .dataframe tbody tr th:only-of-type {\n",
       "        vertical-align: middle;\n",
       "    }\n",
       "\n",
       "    .dataframe tbody tr th {\n",
       "        vertical-align: top;\n",
       "    }\n",
       "\n",
       "    .dataframe thead th {\n",
       "        text-align: right;\n",
       "    }\n",
       "</style>\n",
       "<table border=\"1\" class=\"dataframe\">\n",
       "  <thead>\n",
       "    <tr style=\"text-align: right;\">\n",
       "      <th></th>\n",
       "      <th>No of Colli</th>\n",
       "      <th>No of Pallet</th>\n",
       "      <th>SU OSR</th>\n",
       "      <th>SU Manual</th>\n",
       "      <th>FC Manual</th>\n",
       "      <th>is_holiday</th>\n",
       "      <th>day_of_week</th>\n",
       "      <th>day_of_month</th>\n",
       "      <th>month</th>\n",
       "      <th>Calculated Labour</th>\n",
       "      <th>preds</th>\n",
       "    </tr>\n",
       "  </thead>\n",
       "  <tbody>\n",
       "    <tr>\n",
       "      <th>95</th>\n",
       "      <td>1687</td>\n",
       "      <td>198</td>\n",
       "      <td>2548</td>\n",
       "      <td>780.0</td>\n",
       "      <td>2994</td>\n",
       "      <td>1</td>\n",
       "      <td>3</td>\n",
       "      <td>18</td>\n",
       "      <td>8</td>\n",
       "      <td>13.819256</td>\n",
       "      <td>13.469351</td>\n",
       "    </tr>\n",
       "    <tr>\n",
       "      <th>102</th>\n",
       "      <td>1894</td>\n",
       "      <td>115</td>\n",
       "      <td>1558</td>\n",
       "      <td>750.0</td>\n",
       "      <td>4126</td>\n",
       "      <td>1</td>\n",
       "      <td>0</td>\n",
       "      <td>29</td>\n",
       "      <td>8</td>\n",
       "      <td>14.314847</td>\n",
       "      <td>14.408923</td>\n",
       "    </tr>\n",
       "    <tr>\n",
       "      <th>103</th>\n",
       "      <td>2140</td>\n",
       "      <td>130</td>\n",
       "      <td>2285</td>\n",
       "      <td>960.0</td>\n",
       "      <td>1310</td>\n",
       "      <td>1</td>\n",
       "      <td>1</td>\n",
       "      <td>30</td>\n",
       "      <td>8</td>\n",
       "      <td>11.032152</td>\n",
       "      <td>10.486889</td>\n",
       "    </tr>\n",
       "    <tr>\n",
       "      <th>106</th>\n",
       "      <td>3026</td>\n",
       "      <td>94</td>\n",
       "      <td>2874</td>\n",
       "      <td>1264.0</td>\n",
       "      <td>1947</td>\n",
       "      <td>1</td>\n",
       "      <td>4</td>\n",
       "      <td>2</td>\n",
       "      <td>9</td>\n",
       "      <td>14.279404</td>\n",
       "      <td>14.346142</td>\n",
       "    </tr>\n",
       "    <tr>\n",
       "      <th>107</th>\n",
       "      <td>3405</td>\n",
       "      <td>134</td>\n",
       "      <td>2961</td>\n",
       "      <td>1848.0</td>\n",
       "      <td>1996</td>\n",
       "      <td>1</td>\n",
       "      <td>0</td>\n",
       "      <td>5</td>\n",
       "      <td>9</td>\n",
       "      <td>17.279664</td>\n",
       "      <td>15.211917</td>\n",
       "    </tr>\n",
       "  </tbody>\n",
       "</table>\n",
       "</div>"
      ],
      "text/plain": [
       "     No of Colli  No of Pallet  SU OSR  SU Manual   FC Manual  is_holiday  \\\n",
       "95          1687           198    2548       780.0       2994           1   \n",
       "102         1894           115    1558       750.0       4126           1   \n",
       "103         2140           130    2285       960.0       1310           1   \n",
       "106         3026            94    2874      1264.0       1947           1   \n",
       "107         3405           134    2961      1848.0       1996           1   \n",
       "\n",
       "     day_of_week  day_of_month  month  Calculated Labour      preds  \n",
       "95             3            18      8          13.819256  13.469351  \n",
       "102            0            29      8          14.314847  14.408923  \n",
       "103            1            30      8          11.032152  10.486889  \n",
       "106            4             2      9          14.279404  14.346142  \n",
       "107            0             5      9          17.279664  15.211917  "
      ]
     },
     "execution_count": 41,
     "metadata": {},
     "output_type": "execute_result"
    }
   ],
   "source": [
    "# Assuming test_in is your DataFrame\n",
    "test_out = test_out.drop('is_train', axis=1)\n",
    "test_out.head()"
   ]
  },
  {
   "cell_type": "code",
   "execution_count": 42,
   "metadata": {},
   "outputs": [],
   "source": [
    "test_out.to_csv('test_outp_data.csv', index=False)"
   ]
  },
  {
   "cell_type": "markdown",
   "metadata": {},
   "source": [
    "# 5-cross validation for the outbound dataset"
   ]
  },
  {
   "cell_type": "code",
   "execution_count": 43,
   "metadata": {},
   "outputs": [
    {
     "name": "stdout",
     "output_type": "stream",
     "text": [
      "Average Accuracy: 93.63%\n"
     ]
    }
   ],
   "source": [
    "from sklearn.model_selection import cross_val_score\n",
    "\n",
    "\n",
    "pred_out = test_out['preds'].values.reshape(-1, 1)\n",
    "actual_Labour = test_out['Calculated Labour']\n",
    "\n",
    "\n",
    "#  cross validation score\n",
    "scores = cross_val_score(clf1, pred_out, actual_Labour, cv=5)\n",
    "print(f\"Average Accuracy: {scores.mean() * 100:.2f}%\")"
   ]
  },
  {
   "cell_type": "code",
   "execution_count": 44,
   "metadata": {},
   "outputs": [
    {
     "data": {
      "image/png": "[encoded data removed]",
      "text/plain": [
       "<Figure size 1000x600 with 1 Axes>"
      ]
     },
     "metadata": {},
     "output_type": "display_data"
    }
   ],
   "source": [
    "df = test_out[['preds', 'Calculated Labour']]\n",
    "\n",
    "# Convert string values to numeric if necessary\n",
    "\n",
    "df['preds'] = pd.to_numeric(df['preds'])\n",
    "df['Calculated Labour'] = pd.to_numeric(df['Calculated Labour'])\n",
    "plt.figure(figsize=(10, 6))\n",
    "\n",
    "\n",
    "plt.plot(df['preds'], label='Predicted Labour', marker='o')\n",
    "plt.plot(df['Calculated Labour'], label='Actual Labour', marker='o')\n",
    "\n",
    "plt.title('Comparison of  Predicted and Actual Labour')\n",
    "plt.xlabel('Index')\n",
    "plt.ylabel('Values')\n",
    "plt.legend()\n",
    "plt.grid(True)\n",
    "plt.show()"
   ]
  },
  {
   "cell_type": "code",
   "execution_count": 45,
   "metadata": {},
   "outputs": [
    {
     "data": {
      "text/plain": [
       "SU Manual       0.434390\n",
       "FC Manual       0.401475\n",
       "No of Colli     0.073770\n",
       "SU OSR          0.062055\n",
       "No of Pallet    0.016596\n",
       "month           0.004481\n",
       "day_of_month    0.003812\n",
       "day_of_week     0.002808\n",
       "is_holiday      0.000613\n",
       "dtype: float64"
      ]
     },
     "execution_count": 45,
     "metadata": {},
     "output_type": "execute_result"
    }
   ],
   "source": [
    "feature_scores = pd.Series(clf1.feature_importances_, index=model_features).sort_values(ascending=False)\n",
    "feature_scores"
   ]
  },
  {
   "cell_type": "code",
   "execution_count": 46,
   "metadata": {},
   "outputs": [
    {
     "data": {
      "image/png": "[encoded data removed]",
      "text/plain": [
       "<Figure size 640x480 with 1 Axes>"
      ]
     },
     "metadata": {},
     "output_type": "display_data"
    }
   ],
   "source": [
    "sns.barplot(x=feature_scores, y=feature_scores.index)\n",
    "\n",
    "\n",
    "\n",
    "# Add labels to the graph\n",
    "\n",
    "plt.xlabel('Feature Importance Score')\n",
    "\n",
    "plt.ylabel('Features')\n",
    "\n",
    "\n",
    "\n",
    "# Add title to the graph\n",
    "\n",
    "plt.title(\"Visualizing Important Features\")\n",
    "\n",
    "\n",
    "\n",
    "# Visualize the graph\n",
    "\n",
    "plt.show()"
   ]
  },
  {
   "cell_type": "markdown",
   "metadata": {},
   "source": [
    "\n",
    "\n",
    "# For  the inbound Labour prediction"
   ]
  },
  {
   "cell_type": "code",
   "execution_count": 153,
   "metadata": {},
   "outputs": [
    {
     "data": {
      "text/html": [
       "<div>\n",
       "<style scoped>\n",
       "    .dataframe tbody tr th:only-of-type {\n",
       "        vertical-align: middle;\n",
       "    }\n",
       "\n",
       "    .dataframe tbody tr th {\n",
       "        vertical-align: top;\n",
       "    }\n",
       "\n",
       "    .dataframe thead th {\n",
       "        text-align: right;\n",
       "    }\n",
       "</style>\n",
       "<table border=\"1\" class=\"dataframe\">\n",
       "  <thead>\n",
       "    <tr style=\"text-align: right;\">\n",
       "      <th></th>\n",
       "      <th>No of Pallets Inbound</th>\n",
       "      <th>No of Pallets InboundFrigo</th>\n",
       "      <th>Number of Batches</th>\n",
       "      <th>day_of_week</th>\n",
       "      <th>day_of_month</th>\n",
       "      <th>month</th>\n",
       "      <th>Calculated Labour</th>\n",
       "    </tr>\n",
       "  </thead>\n",
       "  <tbody>\n",
       "    <tr>\n",
       "      <th>0</th>\n",
       "      <td>156</td>\n",
       "      <td>0</td>\n",
       "      <td>30</td>\n",
       "      <td>0</td>\n",
       "      <td>1</td>\n",
       "      <td>8</td>\n",
       "      <td>3.777922</td>\n",
       "    </tr>\n",
       "    <tr>\n",
       "      <th>1</th>\n",
       "      <td>126</td>\n",
       "      <td>1</td>\n",
       "      <td>50</td>\n",
       "      <td>1</td>\n",
       "      <td>2</td>\n",
       "      <td>8</td>\n",
       "      <td>4.598052</td>\n",
       "    </tr>\n",
       "    <tr>\n",
       "      <th>2</th>\n",
       "      <td>176</td>\n",
       "      <td>33</td>\n",
       "      <td>20</td>\n",
       "      <td>2</td>\n",
       "      <td>3</td>\n",
       "      <td>8</td>\n",
       "      <td>3.859524</td>\n",
       "    </tr>\n",
       "    <tr>\n",
       "      <th>3</th>\n",
       "      <td>148</td>\n",
       "      <td>31</td>\n",
       "      <td>63</td>\n",
       "      <td>3</td>\n",
       "      <td>4</td>\n",
       "      <td>8</td>\n",
       "      <td>6.035931</td>\n",
       "    </tr>\n",
       "    <tr>\n",
       "      <th>4</th>\n",
       "      <td>172</td>\n",
       "      <td>58</td>\n",
       "      <td>55</td>\n",
       "      <td>4</td>\n",
       "      <td>5</td>\n",
       "      <td>8</td>\n",
       "      <td>6.211039</td>\n",
       "    </tr>\n",
       "  </tbody>\n",
       "</table>\n",
       "</div>"
      ],
      "text/plain": [
       "   No of Pallets Inbound    No of Pallets InboundFrigo   Number of Batches  \\\n",
       "0                     156                             0                 30   \n",
       "1                     126                             1                 50   \n",
       "2                     176                            33                 20   \n",
       "3                     148                            31                 63   \n",
       "4                     172                            58                 55   \n",
       "\n",
       "   day_of_week  day_of_month  month  Calculated Labour  \n",
       "0            0             1      8           3.777922  \n",
       "1            1             2      8           4.598052  \n",
       "2            2             3      8           3.859524  \n",
       "3            3             4      8           6.035931  \n",
       "4            4             5      8           6.211039  "
      ]
     },
     "execution_count": 153,
     "metadata": {},
     "output_type": "execute_result"
    }
   ],
   "source": [
    "featuresi = ['No of Pallets Inbound ', ' No of Pallets InboundFrigo ',\t'Number of Batches'\t, 'day_of_week','day_of_month',\t'month', 'Calculated Labour']\n",
    "\n",
    "inbound =subset_in[featuresi]\n",
    "inbound.head()"
   ]
  },
  {
   "cell_type": "code",
   "execution_count": null,
   "metadata": {},
   "outputs": [],
   "source": []
  },
  {
   "cell_type": "code",
   "execution_count": 154,
   "metadata": {},
   "outputs": [
    {
     "data": {
      "text/html": [
       "<div>\n",
       "<style scoped>\n",
       "    .dataframe tbody tr th:only-of-type {\n",
       "        vertical-align: middle;\n",
       "    }\n",
       "\n",
       "    .dataframe tbody tr th {\n",
       "        vertical-align: top;\n",
       "    }\n",
       "\n",
       "    .dataframe thead th {\n",
       "        text-align: right;\n",
       "    }\n",
       "</style>\n",
       "<table border=\"1\" class=\"dataframe\">\n",
       "  <thead>\n",
       "    <tr style=\"text-align: right;\">\n",
       "      <th></th>\n",
       "      <th>No of Pallets Inbound</th>\n",
       "      <th>No of Pallets InboundFrigo</th>\n",
       "      <th>Number of Batches</th>\n",
       "      <th>day_of_week</th>\n",
       "      <th>day_of_month</th>\n",
       "      <th>month</th>\n",
       "      <th>Calculated Labour</th>\n",
       "      <th>is_train</th>\n",
       "    </tr>\n",
       "  </thead>\n",
       "  <tbody>\n",
       "    <tr>\n",
       "      <th>0</th>\n",
       "      <td>156</td>\n",
       "      <td>0</td>\n",
       "      <td>30</td>\n",
       "      <td>0</td>\n",
       "      <td>1</td>\n",
       "      <td>8</td>\n",
       "      <td>3.777922</td>\n",
       "      <td>True</td>\n",
       "    </tr>\n",
       "    <tr>\n",
       "      <th>1</th>\n",
       "      <td>126</td>\n",
       "      <td>1</td>\n",
       "      <td>50</td>\n",
       "      <td>1</td>\n",
       "      <td>2</td>\n",
       "      <td>8</td>\n",
       "      <td>4.598052</td>\n",
       "      <td>True</td>\n",
       "    </tr>\n",
       "    <tr>\n",
       "      <th>2</th>\n",
       "      <td>176</td>\n",
       "      <td>33</td>\n",
       "      <td>20</td>\n",
       "      <td>2</td>\n",
       "      <td>3</td>\n",
       "      <td>8</td>\n",
       "      <td>3.859524</td>\n",
       "      <td>False</td>\n",
       "    </tr>\n",
       "    <tr>\n",
       "      <th>3</th>\n",
       "      <td>148</td>\n",
       "      <td>31</td>\n",
       "      <td>63</td>\n",
       "      <td>3</td>\n",
       "      <td>4</td>\n",
       "      <td>8</td>\n",
       "      <td>6.035931</td>\n",
       "      <td>True</td>\n",
       "    </tr>\n",
       "    <tr>\n",
       "      <th>4</th>\n",
       "      <td>172</td>\n",
       "      <td>58</td>\n",
       "      <td>55</td>\n",
       "      <td>4</td>\n",
       "      <td>5</td>\n",
       "      <td>8</td>\n",
       "      <td>6.211039</td>\n",
       "      <td>True</td>\n",
       "    </tr>\n",
       "  </tbody>\n",
       "</table>\n",
       "</div>"
      ],
      "text/plain": [
       "   No of Pallets Inbound    No of Pallets InboundFrigo   Number of Batches  \\\n",
       "0                     156                             0                 30   \n",
       "1                     126                             1                 50   \n",
       "2                     176                            33                 20   \n",
       "3                     148                            31                 63   \n",
       "4                     172                            58                 55   \n",
       "\n",
       "   day_of_week  day_of_month  month  Calculated Labour  is_train  \n",
       "0            0             1      8           3.777922      True  \n",
       "1            1             2      8           4.598052      True  \n",
       "2            2             3      8           3.859524     False  \n",
       "3            3             4      8           6.035931      True  \n",
       "4            4             5      8           6.211039      True  "
      ]
     },
     "execution_count": 154,
     "metadata": {},
     "output_type": "execute_result"
    }
   ],
   "source": [
    "inbound['is_train']= np.random.uniform(0,1,len(inbound)) <= 0.80\n",
    "inbound.head()"
   ]
  },
  {
   "cell_type": "markdown",
   "metadata": {},
   "source": [
    "# 80 % of the inbound data as training "
   ]
  },
  {
   "cell_type": "code",
   "execution_count": 155,
   "metadata": {},
   "outputs": [
    {
     "name": "stdout",
     "output_type": "stream",
     "text": [
      "training length:  201\n",
      "test length:  52\n"
     ]
    }
   ],
   "source": [
    "train_in, test_in = inbound[inbound['is_train']== True], inbound[inbound['is_train']== False]\n",
    "print('training length: ' ,len(train_in))\n",
    "print('test length: ' ,len(test_in))"
   ]
  },
  {
   "cell_type": "code",
   "execution_count": 157,
   "metadata": {},
   "outputs": [
    {
     "data": {
      "text/plain": [
       "Index(['No of Pallets Inbound ', ' No of Pallets InboundFrigo ',\n",
       "       'Number of Batches', 'day_of_week', 'day_of_month', 'month'],\n",
       "      dtype='object')"
      ]
     },
     "execution_count": 157,
     "metadata": {},
     "output_type": "execute_result"
    }
   ],
   "source": [
    "model_feature = inbound.columns[:6]\n",
    "model_feature"
   ]
  },
  {
   "cell_type": "code",
   "execution_count": 158,
   "metadata": {},
   "outputs": [
    {
     "data": {
      "text/plain": [
       "201"
      ]
     },
     "execution_count": 158,
     "metadata": {},
     "output_type": "execute_result"
    }
   ],
   "source": [
    "#  target variable labour\n",
    "\n",
    "y_in = train_in['Calculated Labour']\n",
    "len(y_in)"
   ]
  },
  {
   "cell_type": "code",
   "execution_count": 159,
   "metadata": {},
   "outputs": [
    {
     "name": "stdout",
     "output_type": "stream",
     "text": [
      "(201, 6)\n",
      "(201,)\n"
     ]
    }
   ],
   "source": [
    "print(train_in[model_feature].shape)\n",
    "print(y_in.shape)\n"
   ]
  },
  {
   "cell_type": "code",
   "execution_count": 160,
   "metadata": {},
   "outputs": [
    {
     "data": {
      "text/html": [
       "<style>#sk-container-id-6 {color: black;}#sk-container-id-6 pre{padding: 0;}#sk-container-id-6 div.sk-toggleable {background-color: white;}#sk-container-id-6 label.sk-toggleable__label {cursor: pointer;display: block;width: 100%;margin-bottom: 0;padding: 0.3em;box-sizing: border-box;text-align: center;}#sk-container-id-6 label.sk-toggleable__label-arrow:before {content: \"▸\";float: left;margin-right: 0.25em;color: #696969;}#sk-container-id-6 label.sk-toggleable__label-arrow:hover:before {color: black;}#sk-container-id-6 div.sk-estimator:hover label.sk-toggleable__label-arrow:before {color: black;}#sk-container-id-6 div.sk-toggleable__content {max-height: 0;max-width: 0;overflow: hidden;text-align: left;background-color: #f0f8ff;}#sk-container-id-6 div.sk-toggleable__content pre {margin: 0.2em;color: black;border-radius: 0.25em;background-color: #f0f8ff;}#sk-container-id-6 input.sk-toggleable__control:checked~div.sk-toggleable__content {max-height: 200px;max-width: 100%;overflow: auto;}#sk-container-id-6 input.sk-toggleable__control:checked~label.sk-toggleable__label-arrow:before {content: \"▾\";}#sk-container-id-6 div.sk-estimator input.sk-toggleable__control:checked~label.sk-toggleable__label {background-color: #d4ebff;}#sk-container-id-6 div.sk-label input.sk-toggleable__control:checked~label.sk-toggleable__label {background-color: #d4ebff;}#sk-container-id-6 input.sk-hidden--visually {border: 0;clip: rect(1px 1px 1px 1px);clip: rect(1px, 1px, 1px, 1px);height: 1px;margin: -1px;overflow: hidden;padding: 0;position: absolute;width: 1px;}#sk-container-id-6 div.sk-estimator {font-family: monospace;background-color: #f0f8ff;border: 1px dotted black;border-radius: 0.25em;box-sizing: border-box;margin-bottom: 0.5em;}#sk-container-id-6 div.sk-estimator:hover {background-color: #d4ebff;}#sk-container-id-6 div.sk-parallel-item::after {content: \"\";width: 100%;border-bottom: 1px solid gray;flex-grow: 1;}#sk-container-id-6 div.sk-label:hover label.sk-toggleable__label {background-color: #d4ebff;}#sk-container-id-6 div.sk-serial::before {content: \"\";position: absolute;border-left: 1px solid gray;box-sizing: border-box;top: 0;bottom: 0;left: 50%;z-index: 0;}#sk-container-id-6 div.sk-serial {display: flex;flex-direction: column;align-items: center;background-color: white;padding-right: 0.2em;padding-left: 0.2em;position: relative;}#sk-container-id-6 div.sk-item {position: relative;z-index: 1;}#sk-container-id-6 div.sk-parallel {display: flex;align-items: stretch;justify-content: center;background-color: white;position: relative;}#sk-container-id-6 div.sk-item::before, #sk-container-id-6 div.sk-parallel-item::before {content: \"\";position: absolute;border-left: 1px solid gray;box-sizing: border-box;top: 0;bottom: 0;left: 50%;z-index: -1;}#sk-container-id-6 div.sk-parallel-item {display: flex;flex-direction: column;z-index: 1;position: relative;background-color: white;}#sk-container-id-6 div.sk-parallel-item:first-child::after {align-self: flex-end;width: 50%;}#sk-container-id-6 div.sk-parallel-item:last-child::after {align-self: flex-start;width: 50%;}#sk-container-id-6 div.sk-parallel-item:only-child::after {width: 0;}#sk-container-id-6 div.sk-dashed-wrapped {border: 1px dashed gray;margin: 0 0.4em 0.5em 0.4em;box-sizing: border-box;padding-bottom: 0.4em;background-color: white;}#sk-container-id-6 div.sk-label label {font-family: monospace;font-weight: bold;display: inline-block;line-height: 1.2em;}#sk-container-id-6 div.sk-label-container {text-align: center;}#sk-container-id-6 div.sk-container {/* jupyter's `normalize.less` sets `[hidden] { display: none; }` but bootstrap.min.css set `[hidden] { display: none !important; }` so we also need the `!important` here to be able to override the default hidden behavior on the sphinx rendered scikit-learn.org. See: https://github.com/scikit-learn/scikit-learn/issues/21755 */display: inline-block !important;position: relative;}#sk-container-id-6 div.sk-text-repr-fallback {display: none;}</style><div id=\"sk-container-id-6\" class=\"sk-top-container\"><div class=\"sk-text-repr-fallback\"><pre>RandomForestRegressor(n_jobs=3, random_state=0)</pre><b>In a Jupyter environment, please rerun this cell to show the HTML representation or trust the notebook. <br />On GitHub, the HTML representation is unable to render, please try loading this page with nbviewer.org.</b></div><div class=\"sk-container\" hidden><div class=\"sk-item\"><div class=\"sk-estimator sk-toggleable\"><input class=\"sk-toggleable__control sk-hidden--visually\" id=\"sk-estimator-id-6\" type=\"checkbox\" checked><label for=\"sk-estimator-id-6\" class=\"sk-toggleable__label sk-toggleable__label-arrow\">RandomForestRegressor</label><div class=\"sk-toggleable__content\"><pre>RandomForestRegressor(n_jobs=3, random_state=0)</pre></div></div></div></div></div>"
      ],
      "text/plain": [
       "RandomForestRegressor(n_jobs=3, random_state=0)"
      ]
     },
     "execution_count": 160,
     "metadata": {},
     "output_type": "execute_result"
    }
   ],
   "source": [
    "clf = RandomForestRegressor(n_jobs=3, random_state= 0)\n",
    "clf.fit(train_in[model_feature], y_in)"
   ]
  },
  {
   "cell_type": "code",
   "execution_count": 161,
   "metadata": {},
   "outputs": [
    {
     "data": {
      "text/plain": [
       "array([ 4.2350368 ,  4.51969697,  4.53385498,  4.89538528,  5.31887229,\n",
       "        4.07254978,  4.41245887,  4.45591342,  4.47032251,  7.94674242,\n",
       "        7.33913636,  4.20960823,  7.97981602,  4.87082251,  7.47007576,\n",
       "        5.0905368 ,  3.78013636,  5.46500216,  7.72757792,  7.52920779,\n",
       "        5.31196753,  7.68831818,  5.26725108,  5.5933961 ,  6.54134632,\n",
       "        6.77387229,  7.80437446, 22.38900433,  7.10308009,  5.48058225,\n",
       "        6.49809307,  4.40080736,  7.44748918,  4.47822944,  2.940829  ,\n",
       "        3.65828571, 24.86771429,  5.05244805, 53.69820779,  5.25127706,\n",
       "        7.09835065,  7.73184416, 33.57686797,  8.77869048,  4.66469913,\n",
       "        5.05021861,  3.37989827,  6.21478788,  1.94096537,  5.0615671 ,\n",
       "        5.54659307,  2.3667619 ])"
      ]
     },
     "execution_count": 161,
     "metadata": {},
     "output_type": "execute_result"
    }
   ],
   "source": [
    "#clf.predict(test_in[model_feature])"
   ]
  },
  {
   "cell_type": "code",
   "execution_count": 163,
   "metadata": {},
   "outputs": [
    {
     "data": {
      "text/html": [
       "<div>\n",
       "<style scoped>\n",
       "    .dataframe tbody tr th:only-of-type {\n",
       "        vertical-align: middle;\n",
       "    }\n",
       "\n",
       "    .dataframe tbody tr th {\n",
       "        vertical-align: top;\n",
       "    }\n",
       "\n",
       "    .dataframe thead th {\n",
       "        text-align: right;\n",
       "    }\n",
       "</style>\n",
       "<table border=\"1\" class=\"dataframe\">\n",
       "  <thead>\n",
       "    <tr style=\"text-align: right;\">\n",
       "      <th></th>\n",
       "      <th>No of Pallets Inbound</th>\n",
       "      <th>No of Pallets InboundFrigo</th>\n",
       "      <th>Number of Batches</th>\n",
       "      <th>day_of_week</th>\n",
       "      <th>day_of_month</th>\n",
       "      <th>month</th>\n",
       "      <th>Calculated Labour</th>\n",
       "      <th>is_train</th>\n",
       "      <th>preds</th>\n",
       "    </tr>\n",
       "  </thead>\n",
       "  <tbody>\n",
       "    <tr>\n",
       "      <th>2</th>\n",
       "      <td>176</td>\n",
       "      <td>33</td>\n",
       "      <td>20</td>\n",
       "      <td>2</td>\n",
       "      <td>3</td>\n",
       "      <td>8</td>\n",
       "      <td>3.859524</td>\n",
       "      <td>False</td>\n",
       "      <td>4.235037</td>\n",
       "    </tr>\n",
       "    <tr>\n",
       "      <th>12</th>\n",
       "      <td>148</td>\n",
       "      <td>80</td>\n",
       "      <td>35</td>\n",
       "      <td>3</td>\n",
       "      <td>18</td>\n",
       "      <td>8</td>\n",
       "      <td>4.995022</td>\n",
       "      <td>False</td>\n",
       "      <td>4.519697</td>\n",
       "    </tr>\n",
       "    <tr>\n",
       "      <th>18</th>\n",
       "      <td>79</td>\n",
       "      <td>30</td>\n",
       "      <td>53</td>\n",
       "      <td>4</td>\n",
       "      <td>26</td>\n",
       "      <td>8</td>\n",
       "      <td>4.546753</td>\n",
       "      <td>False</td>\n",
       "      <td>4.533855</td>\n",
       "    </tr>\n",
       "    <tr>\n",
       "      <th>19</th>\n",
       "      <td>182</td>\n",
       "      <td>8</td>\n",
       "      <td>38</td>\n",
       "      <td>0</td>\n",
       "      <td>29</td>\n",
       "      <td>8</td>\n",
       "      <td>4.688312</td>\n",
       "      <td>False</td>\n",
       "      <td>4.895385</td>\n",
       "    </tr>\n",
       "    <tr>\n",
       "      <th>23</th>\n",
       "      <td>256</td>\n",
       "      <td>2</td>\n",
       "      <td>39</td>\n",
       "      <td>4</td>\n",
       "      <td>2</td>\n",
       "      <td>9</td>\n",
       "      <td>5.616234</td>\n",
       "      <td>False</td>\n",
       "      <td>5.318872</td>\n",
       "    </tr>\n",
       "  </tbody>\n",
       "</table>\n",
       "</div>"
      ],
      "text/plain": [
       "    No of Pallets Inbound    No of Pallets InboundFrigo   Number of Batches  \\\n",
       "2                      176                            33                 20   \n",
       "12                     148                            80                 35   \n",
       "18                      79                            30                 53   \n",
       "19                     182                             8                 38   \n",
       "23                     256                             2                 39   \n",
       "\n",
       "    day_of_week  day_of_month  month  Calculated Labour  is_train     preds  \n",
       "2             2             3      8           3.859524     False  4.235037  \n",
       "12            3            18      8           4.995022     False  4.519697  \n",
       "18            4            26      8           4.546753     False  4.533855  \n",
       "19            0            29      8           4.688312     False  4.895385  \n",
       "23            4             2      9           5.616234     False  5.318872  "
      ]
     },
     "execution_count": 163,
     "metadata": {},
     "output_type": "execute_result"
    }
   ],
   "source": [
    "test_in['preds'] = clf.predict(test_in[model_feature])\n",
    "test_in.head()"
   ]
  },
  {
   "cell_type": "code",
   "execution_count": 164,
   "metadata": {},
   "outputs": [
    {
     "data": {
      "text/html": [
       "<div>\n",
       "<style scoped>\n",
       "    .dataframe tbody tr th:only-of-type {\n",
       "        vertical-align: middle;\n",
       "    }\n",
       "\n",
       "    .dataframe tbody tr th {\n",
       "        vertical-align: top;\n",
       "    }\n",
       "\n",
       "    .dataframe thead th {\n",
       "        text-align: right;\n",
       "    }\n",
       "</style>\n",
       "<table border=\"1\" class=\"dataframe\">\n",
       "  <thead>\n",
       "    <tr style=\"text-align: right;\">\n",
       "      <th></th>\n",
       "      <th>No of Pallets Inbound</th>\n",
       "      <th>No of Pallets InboundFrigo</th>\n",
       "      <th>Number of Batches</th>\n",
       "      <th>day_of_week</th>\n",
       "      <th>day_of_month</th>\n",
       "      <th>month</th>\n",
       "      <th>Calculated Labour</th>\n",
       "      <th>preds</th>\n",
       "    </tr>\n",
       "  </thead>\n",
       "  <tbody>\n",
       "    <tr>\n",
       "      <th>2</th>\n",
       "      <td>176</td>\n",
       "      <td>33</td>\n",
       "      <td>20</td>\n",
       "      <td>2</td>\n",
       "      <td>3</td>\n",
       "      <td>8</td>\n",
       "      <td>3.859524</td>\n",
       "      <td>4.235037</td>\n",
       "    </tr>\n",
       "    <tr>\n",
       "      <th>12</th>\n",
       "      <td>148</td>\n",
       "      <td>80</td>\n",
       "      <td>35</td>\n",
       "      <td>3</td>\n",
       "      <td>18</td>\n",
       "      <td>8</td>\n",
       "      <td>4.995022</td>\n",
       "      <td>4.519697</td>\n",
       "    </tr>\n",
       "    <tr>\n",
       "      <th>18</th>\n",
       "      <td>79</td>\n",
       "      <td>30</td>\n",
       "      <td>53</td>\n",
       "      <td>4</td>\n",
       "      <td>26</td>\n",
       "      <td>8</td>\n",
       "      <td>4.546753</td>\n",
       "      <td>4.533855</td>\n",
       "    </tr>\n",
       "    <tr>\n",
       "      <th>19</th>\n",
       "      <td>182</td>\n",
       "      <td>8</td>\n",
       "      <td>38</td>\n",
       "      <td>0</td>\n",
       "      <td>29</td>\n",
       "      <td>8</td>\n",
       "      <td>4.688312</td>\n",
       "      <td>4.895385</td>\n",
       "    </tr>\n",
       "    <tr>\n",
       "      <th>23</th>\n",
       "      <td>256</td>\n",
       "      <td>2</td>\n",
       "      <td>39</td>\n",
       "      <td>4</td>\n",
       "      <td>2</td>\n",
       "      <td>9</td>\n",
       "      <td>5.616234</td>\n",
       "      <td>5.318872</td>\n",
       "    </tr>\n",
       "  </tbody>\n",
       "</table>\n",
       "</div>"
      ],
      "text/plain": [
       "    No of Pallets Inbound    No of Pallets InboundFrigo   Number of Batches  \\\n",
       "2                      176                            33                 20   \n",
       "12                     148                            80                 35   \n",
       "18                      79                            30                 53   \n",
       "19                     182                             8                 38   \n",
       "23                     256                             2                 39   \n",
       "\n",
       "    day_of_week  day_of_month  month  Calculated Labour     preds  \n",
       "2             2             3      8           3.859524  4.235037  \n",
       "12            3            18      8           4.995022  4.519697  \n",
       "18            4            26      8           4.546753  4.533855  \n",
       "19            0            29      8           4.688312  4.895385  \n",
       "23            4             2      9           5.616234  5.318872  "
      ]
     },
     "execution_count": 164,
     "metadata": {},
     "output_type": "execute_result"
    }
   ],
   "source": [
    "# Assuming test_in is your DataFrame\n",
    "test_in = test_in.drop('is_train', axis=1)\n",
    "test_in.head()"
   ]
  },
  {
   "cell_type": "markdown",
   "metadata": {},
   "source": [
    "###  Testing the accuracy of our predictions"
   ]
  },
  {
   "cell_type": "markdown",
   "metadata": {},
   "source": [
    "## 5- fold cross Validation"
   ]
  },
  {
   "cell_type": "code",
   "execution_count": 165,
   "metadata": {},
   "outputs": [
    {
     "name": "stdout",
     "output_type": "stream",
     "text": [
      "Average Accuracy: 83.99%\n"
     ]
    }
   ],
   "source": [
    "\n",
    "from sklearn.model_selection import cross_val_score\n",
    "\n",
    "\n",
    "pred_in = test_in['preds'].values.reshape(-1, 1)\n",
    "actual_Labour = test_in['Calculated Labour']\n",
    "\n",
    "\n",
    "#  cross validation score\n",
    "scores = cross_val_score(clf, pred_in, actual_Labour, cv=5)\n",
    " \n",
    "print(f\"Average Accuracy: {scores.mean() * 100:.2f}%\")"
   ]
  },
  {
   "cell_type": "code",
   "execution_count": 166,
   "metadata": {},
   "outputs": [
    {
     "data": {
      "image/png": "[encoded data removed]",
      "text/plain": [
       "<Figure size 1000x600 with 1 Axes>"
      ]
     },
     "metadata": {},
     "output_type": "display_data"
    }
   ],
   "source": [
    "df = test_in[['preds', 'Calculated Labour']]\n",
    "\n",
    "# Convert string values to numeric if necessary\n",
    "\n",
    "df['preds'] = pd.to_numeric(df['preds'])\n",
    "df['Calculated Labour'] = pd.to_numeric(df['Calculated Labour'])\n",
    "plt.figure(figsize=(10, 6))\n",
    "\n",
    "\n",
    "plt.plot(df['preds'], label='Predicted Labour', marker='o')\n",
    "plt.plot(df['Calculated Labour'], label='Actual Labour', marker='o')\n",
    "\n",
    "plt.title('Comparison of  Predicted and Actual Labour')\n",
    "plt.xlabel('Index')\n",
    "plt.ylabel('Values')\n",
    "plt.legend()\n",
    "plt.grid(True)\n",
    "plt.show()"
   ]
  },
  {
   "cell_type": "code",
   "execution_count": 167,
   "metadata": {},
   "outputs": [
    {
     "data": {
      "text/plain": [
       "No of Pallets Inbound           0.962853\n",
       "Number of Batches               0.026890\n",
       "day_of_month                    0.003639\n",
       "day_of_week                     0.002707\n",
       " No of Pallets InboundFrigo     0.002019\n",
       "month                           0.001892\n",
       "dtype: float64"
      ]
     },
     "execution_count": 167,
     "metadata": {},
     "output_type": "execute_result"
    }
   ],
   "source": [
    "feature_scores = pd.Series(clf.feature_importances_, index=model_feature).sort_values(ascending=False)\n",
    "feature_scores"
   ]
  },
  {
   "cell_type": "code",
   "execution_count": 168,
   "metadata": {},
   "outputs": [
    {
     "data": {
      "image/png": "[encoded data removed]",
      "text/plain": [
       "<Figure size 640x480 with 1 Axes>"
      ]
     },
     "metadata": {},
     "output_type": "display_data"
    }
   ],
   "source": [
    "sns.barplot(x=feature_scores, y=feature_scores.index)\n",
    "\n",
    "\n",
    "\n",
    "# Add labels to the graph\n",
    "\n",
    "plt.xlabel('Feature Importance Score')\n",
    "\n",
    "plt.ylabel('Features')\n",
    "\n",
    "\n",
    "\n",
    "# Add title to the graph\n",
    "\n",
    "plt.title(\"Visualizing Important Features\")\n",
    "\n",
    "\n",
    "\n",
    "# Visualize the graph\n",
    "\n",
    "plt.show()"
   ]
  },
  {
   "cell_type": "markdown",
   "metadata": {},
   "source": [
    "# The performance of our model for the inbound Labour using  5- fold cross validation is 85.65%"
   ]
  },
  {
   "cell_type": "markdown",
   "metadata": {},
   "source": [
    "## Confusion Matrix\n",
    "\n",
    "Not supported for continous data\n",
    "\n",
    "##  Receiver Operating Characteristic (ROC) Curve and Area Under the Curve (AUC)\n",
    "\n",
    "Not supported for continous data\n",
    "\n"
   ]
  },
  {
   "cell_type": "code",
   "execution_count": 169,
   "metadata": {},
   "outputs": [],
   "source": [
    "test_in.to_csv('test_in_data.csv', index=False)"
   ]
  }
 ],
 "metadata": {
  "kernelspec": {
   "display_name": "APIP",
   "language": "python",
   "name": "python3"
  },
  "language_info": {
   "codemirror_mode": {
    "name": "ipython",
    "version": 3
   },
   "file_extension": ".py",
   "mimetype": "text/x-python",
   "name": "python",
   "nbconvert_exporter": "python",
   "pygments_lexer": "ipython3",
   "version": "3.11.3"
  }
 },
 "nbformat": 4,
 "nbformat_minor": 2
}
